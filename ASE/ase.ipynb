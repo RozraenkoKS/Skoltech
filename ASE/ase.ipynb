{
 "cells": [
  {
   "cell_type": "code",
   "execution_count": 100,
   "id": "9159a5d8-dd4b-4431-bcc7-ab84dd24f6a6",
   "metadata": {},
   "outputs": [],
   "source": [
    "from ase import Atoms\n",
    "from ase.visualize import view"
   ]
  },
  {
   "cell_type": "code",
   "execution_count": 101,
   "id": "4c1a6871-77c8-4db7-97a2-d1efdfb1acf4",
   "metadata": {},
   "outputs": [
    {
     "data": {
      "text/plain": [
       "<Popen: returncode: None args: ['C:\\\\Users\\\\ASUS\\\\anaconda3\\\\python.exe', '-...>"
      ]
     },
     "execution_count": 101,
     "metadata": {},
     "output_type": "execute_result"
    }
   ],
   "source": [
    "d = 1.1\n",
    "co = Atoms('CO2', positions=[(0, 0, 0), (0, d, 0), (d, 0, 0)])\n",
    "view(co)"
   ]
  },
  {
   "cell_type": "code",
   "execution_count": 3,
   "id": "cc0f6b2f-2634-4cbc-bfe4-c89ef3e01219",
   "metadata": {},
   "outputs": [],
   "source": [
    "from ase.cluster.cubic import FaceCenteredCubic"
   ]
  },
  {
   "cell_type": "code",
   "execution_count": 10,
   "id": "410ea370-2d68-46bc-abc0-9adf48b9b163",
   "metadata": {},
   "outputs": [
    {
     "data": {
      "text/plain": [
       "<Popen: returncode: None args: ['C:\\\\Users\\\\ASUS\\\\anaconda3\\\\python.exe', '-...>"
      ]
     },
     "execution_count": 10,
     "metadata": {},
     "output_type": "execute_result"
    }
   ],
   "source": [
    "surfaces = [(1, 1, 1), (1, 1, 1), (1, 1, 1)]\n",
    "layers = [10, 10, 10]\n",
    "lc = 3.61000\n",
    "atoms = FaceCenteredCubic('Cu', surfaces, layers, latticeconstant=lc)\n",
    "view(atoms)"
   ]
  },
  {
   "cell_type": "code",
   "execution_count": 39,
   "id": "5203b545-364e-4510-adb5-263eaa814b48",
   "metadata": {},
   "outputs": [],
   "source": [
    "import numpy as np"
   ]
  },
  {
   "cell_type": "code",
   "execution_count": 40,
   "id": "3150ae6d-bc20-49ed-a008-7b4d0facc410",
   "metadata": {},
   "outputs": [],
   "source": [
    "surfaces = [(1, 0, 0), (1, 1, 0), (1, 1, 1)]\n",
    "layers = [50, 50, 50]\n",
    "lc = 3.61000\n",
    "atomsCu = FaceCenteredCubic('Cu', surfaces, layers, latticeconstant=lc)\n",
    "\n",
    "possCu = atomsCu.get_positions()\n",
    "cCu = atomsCu.get_center_of_mass()\n",
    "\n",
    "new_possCu = possCu - cCu"
   ]
  },
  {
   "cell_type": "code",
   "execution_count": 41,
   "id": "5f707a40-37a7-4206-8426-c31062d079a1",
   "metadata": {},
   "outputs": [],
   "source": [
    "def cut_atoms(poss, r):\n",
    "    radii = np.linalg.norm(poss, axis=1)  \n",
    "    return poss[radii < r]"
   ]
  },
  {
   "cell_type": "code",
   "execution_count": 42,
   "id": "f131d9e6-b63e-4aba-a6ab-3ad76cdedf5e",
   "metadata": {},
   "outputs": [
    {
     "data": {
      "text/plain": [
       "<Popen: returncode: None args: ['C:\\\\Users\\\\ASUS\\\\anaconda3\\\\python.exe', '-...>"
      ]
     },
     "execution_count": 42,
     "metadata": {},
     "output_type": "execute_result"
    }
   ],
   "source": [
    "r1 = 5\n",
    "possCu = cut_atoms(new_possCu, r1)\n",
    "atoms = Atoms('Cu'+str(len(possCu)), positions=possCu)\n",
    "view(atoms)"
   ]
  },
  {
   "cell_type": "code",
   "execution_count": 49,
   "id": "c9af9009-ddec-4d94-b76b-e2840b388152",
   "metadata": {},
   "outputs": [],
   "source": [
    "def cut_atoms_inside(poss, r):\n",
    "    radii = np.linalg.norm(poss, axis=1)  \n",
    "    return poss[radii > r]"
   ]
  },
  {
   "cell_type": "code",
   "execution_count": 50,
   "id": "dc7f3987-741f-493d-8c29-68253fa7638a",
   "metadata": {},
   "outputs": [
    {
     "name": "stdout",
     "output_type": "stream",
     "text": [
      "[[1 2 3]\n",
      " [4 5 6]\n",
      " [2 3 4]\n",
      " [5 6 7]]\n"
     ]
    }
   ],
   "source": [
    "a = np.array([[1, 2, 3], [4, 5, 6]])\n",
    "b = np.array([[2, 3, 4], [5, 6, 7]])\n",
    "print(np.vstack([a, b]))"
   ]
  },
  {
   "cell_type": "code",
   "execution_count": 102,
   "id": "cbc8e1d9-539e-4beb-9b43-df826e4b420c",
   "metadata": {},
   "outputs": [
    {
     "data": {
      "text/plain": [
       "<Popen: returncode: None args: ['C:\\\\Users\\\\ASUS\\\\anaconda3\\\\python.exe', '-...>"
      ]
     },
     "execution_count": 102,
     "metadata": {},
     "output_type": "execute_result"
    }
   ],
   "source": [
    "lc_ag = 4.09\n",
    "lc_cu = 3.61\n",
    "atomsAg = FaceCenteredCubic('Ag', surfaces, layers, latticeconstant=lc_ag)\n",
    "atomsCu = FaceCenteredCubic('Cu', surfaces, layers, latticeconstant=lc_cu)\n",
    "\n",
    "pos_Cu = atomsCu.get_positions()\n",
    "pos_Ag = atomsAg.get_positions()\n",
    "cCu = atomsCu.get_center_of_mass()\n",
    "cAg = atomsAg.get_center_of_mass()\n",
    "pos_Cu -= cCu\n",
    "pos_Ag -=cAg\n",
    "\n",
    "r1 = 5\n",
    "r2 = 7\n",
    "\n",
    "new_pos_Ag = cut_atoms_inside(cut_atoms(pos_Ag, r2), r1)\n",
    "new_pos_Cu = cut_atoms(pos_Cu, r1)\n",
    "new_pos = np.vstack([new_pos_Ag, new_pos_Cu])\n",
    "\n",
    "symbols = ['Ag'] * len(new_pos_Ag) + ['Cu'] * len(new_pos_Cu)\n",
    "atoms_CuAg = Atoms(symbols, new_pos)\n",
    "view(atoms_CuAg)\n"
   ]
  },
  {
   "cell_type": "code",
   "execution_count": 103,
   "id": "e67c4d22-e7a8-4884-a943-3ccfafd92027",
   "metadata": {},
   "outputs": [],
   "source": [
    "from ase.calculators.emt import EMT\n",
    "atoms_CuAg.calc = EMT()"
   ]
  },
  {
   "cell_type": "code",
   "execution_count": 104,
   "id": "158d2f2f-8705-4795-950b-e47058d79d9a",
   "metadata": {},
   "outputs": [
    {
     "name": "stdout",
     "output_type": "stream",
     "text": [
      "Energy: 8839.92 eV\n"
     ]
    },
    {
     "data": {
      "text/plain": [
       "<Popen: returncode: None args: ['C:\\\\Users\\\\ASUS\\\\anaconda3\\\\python.exe', '-...>"
      ]
     },
     "execution_count": 104,
     "metadata": {},
     "output_type": "execute_result"
    }
   ],
   "source": [
    "energy = atoms_CuAg.get_potential_energy()\n",
    "print(f\"Energy: {energy:.2f} eV\")\n",
    "view(atoms_CuAg)"
   ]
  },
  {
   "cell_type": "code",
   "execution_count": 105,
   "id": "f77e8107-2c4d-4484-b204-7dbe155ab5d6",
   "metadata": {},
   "outputs": [],
   "source": [
    "from ase.optimize import BFGS"
   ]
  },
  {
   "cell_type": "code",
   "execution_count": 106,
   "id": "a64499f2-3d4a-40f2-9b44-4588c52117ac",
   "metadata": {
    "scrolled": true
   },
   "outputs": [
    {
     "name": "stdout",
     "output_type": "stream",
     "text": [
      "      Step     Time          Energy          fmax\n",
      "BFGS:    0 15:35:25     8839.922783     1098.458812\n",
      "BFGS:    1 15:35:25     2581.560603      345.736570\n",
      "BFGS:    2 15:35:25     1417.543380      196.806354\n",
      "BFGS:    3 15:35:25      600.635592       85.824663\n",
      "BFGS:    4 15:35:25      327.239012       39.592571\n",
      "BFGS:    5 15:35:25      239.751982       21.155007\n",
      "BFGS:    6 15:35:25      184.741077       13.901835\n",
      "BFGS:    7 15:35:25      149.637413       10.180349\n",
      "BFGS:    8 15:35:25      113.188307        7.494397\n",
      "BFGS:    9 15:35:25       87.869133        5.291680\n",
      "BFGS:   10 15:35:25       70.802088        3.440669\n",
      "BFGS:   11 15:35:25       60.431189        2.070684\n",
      "BFGS:   12 15:35:26       55.425227        1.367070\n",
      "BFGS:   13 15:35:26       54.512018        1.065408\n",
      "BFGS:   14 15:35:26       54.230876        0.923632\n",
      "BFGS:   15 15:35:26       53.867212        0.740010\n",
      "BFGS:   16 15:35:26       53.479653        0.504540\n",
      "BFGS:   17 15:35:26       53.281276        0.547301\n",
      "BFGS:   18 15:35:26       53.172507        0.463411\n",
      "BFGS:   19 15:35:26       53.055260        0.344965\n",
      "BFGS:   20 15:35:26       52.961046        0.326726\n",
      "BFGS:   21 15:35:26       52.880711        0.266553\n",
      "BFGS:   22 15:35:26       52.843439        0.210954\n",
      "BFGS:   23 15:35:26       52.823525        0.172378\n",
      "BFGS:   24 15:35:26       52.801678        0.132966\n",
      "BFGS:   25 15:35:26       52.773160        0.086489\n",
      "BFGS:   26 15:35:26       52.754233        0.068312\n",
      "BFGS:   27 15:35:26       52.747407        0.092500\n",
      "BFGS:   28 15:35:26       52.744343        0.106145\n",
      "BFGS:   29 15:35:26       52.738018        0.123927\n",
      "BFGS:   30 15:35:26       52.723397        0.149191\n",
      "BFGS:   31 15:35:26       52.690322        0.184979\n",
      "BFGS:   32 15:35:26       52.623001        0.232571\n",
      "BFGS:   33 15:35:26       52.460850        0.311659\n",
      "BFGS:   34 15:35:27       52.150405        0.396763\n",
      "BFGS:   35 15:35:27       51.383812        0.612267\n",
      "BFGS:   36 15:35:27       49.865341        0.852467\n",
      "BFGS:   37 15:35:27       48.554831        1.064455\n",
      "BFGS:   38 15:35:27       48.023107        0.894144\n",
      "BFGS:   39 15:35:27       47.769528        0.769145\n",
      "BFGS:   40 15:35:27       47.340865        0.664856\n",
      "BFGS:   41 15:35:27       46.481409        1.035893\n",
      "BFGS:   42 15:35:27       45.528073        1.157788\n",
      "BFGS:   43 15:35:27       43.963993        0.690474\n",
      "BFGS:   44 15:35:27       43.271937        0.592075\n",
      "BFGS:   45 15:35:27       42.968082        0.674337\n",
      "BFGS:   46 15:35:27       42.577318        0.500805\n",
      "BFGS:   47 15:35:27       42.248709        0.378030\n",
      "BFGS:   48 15:35:27       42.112981        0.322627\n",
      "BFGS:   49 15:35:27       41.994377        0.198531\n",
      "BFGS:   50 15:35:27       41.961363        0.163883\n",
      "BFGS:   51 15:35:27       41.923972        0.151862\n",
      "BFGS:   52 15:35:27       41.853959        0.260223\n",
      "BFGS:   53 15:35:27       41.562105        0.663766\n",
      "BFGS:   54 15:35:27       41.387808        1.114851\n",
      "BFGS:   55 15:35:28       41.060798        0.917018\n",
      "BFGS:   56 15:35:28       40.231496        0.702523\n",
      "BFGS:   57 15:35:28       40.150734        0.620559\n",
      "BFGS:   58 15:35:28       39.887136        0.568824\n",
      "BFGS:   59 15:35:28       39.734284        0.698756\n",
      "BFGS:   60 15:35:28       39.474326        0.618505\n",
      "BFGS:   61 15:35:28       38.595766        0.582319\n",
      "BFGS:   62 15:35:28       38.535420        0.536381\n",
      "BFGS:   63 15:35:28       38.503512        0.563142\n",
      "BFGS:   64 15:35:28       38.489943        0.578414\n",
      "BFGS:   65 15:35:28       38.482710        0.595644\n",
      "BFGS:   66 15:35:28       38.480987        0.598729\n",
      "BFGS:   67 15:35:28       38.478847        0.602832\n",
      "BFGS:   68 15:35:28       38.478342        0.602957\n",
      "BFGS:   69 15:35:28       38.478071        0.602527\n",
      "BFGS:   70 15:35:28       38.478036        0.602308\n",
      "BFGS:   71 15:35:28       38.477813        0.600908\n",
      "BFGS:   72 15:35:28       38.477549        0.599884\n",
      "BFGS:   73 15:35:28       38.476535        0.597376\n",
      "BFGS:   74 15:35:28       38.474198        0.593806\n",
      "BFGS:   75 15:35:28       38.467747        0.587633\n",
      "BFGS:   76 15:35:28       38.451180        0.577663\n",
      "BFGS:   77 15:35:29       38.407634        0.583424\n",
      "BFGS:   78 15:35:29       38.296041        0.625441\n",
      "BFGS:   79 15:35:29       38.023529        0.703746\n",
      "BFGS:   80 15:35:29       37.471700        0.785700\n",
      "BFGS:   81 15:35:29       36.768956        0.796169\n",
      "BFGS:   82 15:35:29       36.230323        0.731878\n",
      "BFGS:   83 15:35:29       36.015932        0.613437\n",
      "BFGS:   84 15:35:29       35.878248        0.558713\n",
      "BFGS:   85 15:35:29       35.699383        0.418904\n",
      "BFGS:   86 15:35:29       35.514705        0.354885\n",
      "BFGS:   87 15:35:29       35.358659        0.363030\n",
      "BFGS:   88 15:35:29       35.263965        0.277265\n",
      "BFGS:   89 15:35:29       35.212290        0.207843\n",
      "BFGS:   90 15:35:29       35.091775        0.203558\n",
      "BFGS:   91 15:35:29       35.042973        0.198186\n",
      "BFGS:   92 15:35:29       35.016473        0.166989\n",
      "BFGS:   93 15:35:29       35.001556        0.127289\n",
      "BFGS:   94 15:35:29       34.983669        0.116237\n",
      "BFGS:   95 15:35:29       34.967172        0.130554\n",
      "BFGS:   96 15:35:29       34.953247        0.154884\n",
      "BFGS:   97 15:35:29       34.937841        0.202661\n",
      "BFGS:   98 15:35:29       34.908451        0.247740\n",
      "BFGS:   99 15:35:30       34.841175        0.301081\n",
      "BFGS:  100 15:35:30       34.700592        0.636507\n",
      "BFGS:  101 15:35:30       34.546272        0.889121\n",
      "BFGS:  102 15:35:30       34.213585        0.864712\n",
      "BFGS:  103 15:35:30       33.762161        0.689883\n",
      "BFGS:  104 15:35:30       33.496475        0.952040\n",
      "BFGS:  105 15:35:30       33.072636        0.908864\n",
      "BFGS:  106 15:35:30       32.444726        0.810245\n",
      "BFGS:  107 15:35:30       32.229384        0.493322\n",
      "BFGS:  108 15:35:30       32.097575        0.414698\n",
      "BFGS:  109 15:35:30       31.955348        0.319502\n",
      "BFGS:  110 15:35:30       31.811023        0.230725\n",
      "BFGS:  111 15:35:30       31.750031        0.227281\n",
      "BFGS:  112 15:35:30       31.714638        0.220021\n",
      "BFGS:  113 15:35:30       31.679580        0.183331\n",
      "BFGS:  114 15:35:30       31.636246        0.190624\n",
      "BFGS:  115 15:35:31       31.599188        0.165756\n",
      "BFGS:  116 15:35:31       31.578412        0.126141\n",
      "BFGS:  117 15:35:31       31.564341        0.101886\n",
      "BFGS:  118 15:35:31       31.546902        0.090732\n",
      "BFGS:  119 15:35:31       31.527233        0.113375\n",
      "BFGS:  120 15:35:31       31.512612        0.156086\n",
      "BFGS:  121 15:35:31       31.503860        0.157740\n",
      "BFGS:  122 15:35:31       31.496391        0.119758\n",
      "BFGS:  123 15:35:31       31.487433        0.081294\n",
      "BFGS:  124 15:35:31       31.478670        0.081062\n",
      "BFGS:  125 15:35:31       31.472797        0.089020\n",
      "BFGS:  126 15:35:31       31.468746        0.084163\n",
      "BFGS:  127 15:35:31       31.464175        0.073359\n",
      "BFGS:  128 15:35:31       31.457960        0.073514\n",
      "BFGS:  129 15:35:31       31.451899        0.097720\n",
      "BFGS:  130 15:35:31       31.447634        0.139307\n",
      "BFGS:  131 15:35:31       31.444197        0.147541\n",
      "BFGS:  132 15:35:31       31.439841        0.128809\n",
      "BFGS:  133 15:35:31       31.434390        0.080399\n",
      "BFGS:  134 15:35:31       31.429870        0.064987\n",
      "BFGS:  135 15:35:31       31.427360        0.064019\n",
      "BFGS:  136 15:35:32       31.425626        0.052754\n",
      "BFGS:  137 15:35:32       31.423453        0.048658\n",
      "BFGS:  138 15:35:32       31.421030        0.039654\n",
      "BFGS:  139 15:35:32       31.419420        0.046348\n",
      "BFGS:  140 15:35:32       31.418755        0.034606\n",
      "BFGS:  141 15:35:32       31.418351        0.026367\n",
      "BFGS:  142 15:35:32       31.417804        0.022057\n",
      "BFGS:  143 15:35:32       31.417200        0.034629\n",
      "BFGS:  144 15:35:32       31.416734        0.041410\n",
      "BFGS:  145 15:35:32       31.416434        0.032265\n",
      "BFGS:  146 15:35:32       31.416170        0.020830\n",
      "BFGS:  147 15:35:32       31.415900        0.017159\n"
     ]
    },
    {
     "data": {
      "text/plain": [
       "True"
      ]
     },
     "execution_count": 106,
     "metadata": {},
     "output_type": "execute_result"
    }
   ],
   "source": [
    "optimizer = BFGS(atoms_CuAg)\n",
    "optimizer.run(fmax=0.02) "
   ]
  },
  {
   "cell_type": "code",
   "execution_count": 107,
   "id": "b6e926bc-f307-418d-977b-2059cdf81241",
   "metadata": {},
   "outputs": [
    {
     "data": {
      "text/plain": [
       "<Popen: returncode: None args: ['C:\\\\Users\\\\ASUS\\\\anaconda3\\\\python.exe', '-...>"
      ]
     },
     "execution_count": 107,
     "metadata": {},
     "output_type": "execute_result"
    }
   ],
   "source": [
    "view(atoms_CuAg)"
   ]
  },
  {
   "cell_type": "code",
   "execution_count": 108,
   "id": "2f203957-5759-432f-8b2c-723dae5c0ecf",
   "metadata": {},
   "outputs": [
    {
     "name": "stdout",
     "output_type": "stream",
     "text": [
      "Energy: 31.42 eV\n"
     ]
    },
    {
     "data": {
      "text/plain": [
       "<Popen: returncode: None args: ['C:\\\\Users\\\\ASUS\\\\anaconda3\\\\python.exe', '-...>"
      ]
     },
     "execution_count": 108,
     "metadata": {},
     "output_type": "execute_result"
    }
   ],
   "source": [
    "energy = atoms_CuAg.get_potential_energy()\n",
    "print(f\"Energy: {energy:.2f} eV\")\n",
    "view(atoms_CuAg)"
   ]
  },
  {
   "cell_type": "code",
   "execution_count": null,
   "id": "3d19eaf2-489c-4a54-a6fa-9a84b1257930",
   "metadata": {},
   "outputs": [],
   "source": []
  }
 ],
 "metadata": {
  "kernelspec": {
   "display_name": "Python 3 (ipykernel)",
   "language": "python",
   "name": "python3"
  },
  "language_info": {
   "codemirror_mode": {
    "name": "ipython",
    "version": 3
   },
   "file_extension": ".py",
   "mimetype": "text/x-python",
   "name": "python",
   "nbconvert_exporter": "python",
   "pygments_lexer": "ipython3",
   "version": "3.12.7"
  }
 },
 "nbformat": 4,
 "nbformat_minor": 5
}
