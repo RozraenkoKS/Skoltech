{
 "cells": [
  {
   "cell_type": "code",
   "execution_count": 26,
   "id": "add2cecd-5a13-46af-bc29-fa7ec4e9cb23",
   "metadata": {},
   "outputs": [],
   "source": [
    "import ase.lattice\n",
    "ag_lattice = ase.lattice.FCC(a=4.09)"
   ]
  },
  {
   "cell_type": "code",
   "execution_count": 27,
   "id": "fe5aee33-4d7c-45f5-8e34-f0b3dcea0991",
   "metadata": {},
   "outputs": [],
   "source": [
    "from ase import Atoms\n",
    "from ase.visualize import view"
   ]
  },
  {
   "cell_type": "code",
   "execution_count": 28,
   "id": "50eed679-1c35-4f9d-9f34-080ba88606bf",
   "metadata": {},
   "outputs": [],
   "source": [
    "ag_cell = ag_lattice.tocell()\n",
    "ag_atoms = Atoms('Ag', cell=ag_cell, pbc=True)"
   ]
  },
  {
   "cell_type": "code",
   "execution_count": 29,
   "id": "15029e1e-31be-44da-9475-daba2ba3a068",
   "metadata": {},
   "outputs": [
    {
     "data": {
      "text/plain": [
       "<Popen: returncode: None args: ['C:\\\\Users\\\\ASUS\\\\anaconda3\\\\python.exe', '-...>"
      ]
     },
     "execution_count": 29,
     "metadata": {},
     "output_type": "execute_result"
    }
   ],
   "source": [
    "tet_lattice = ase.lattice.TET(a=4.09, c=5)\n",
    "tet_cell = tet_lattice.tocell()\n",
    "tet_atoms = Atoms('Ag', cell=tet_cell, pbc=True)\n",
    "view(tet_atoms)"
   ]
  },
  {
   "cell_type": "code",
   "execution_count": 30,
   "id": "4dcf0f54-788c-46c1-8d1b-da07cd45495b",
   "metadata": {},
   "outputs": [],
   "source": [
    "import ase.spacegroup"
   ]
  },
  {
   "cell_type": "code",
   "execution_count": 33,
   "id": "3eaaa012-ba95-42b3-8c97-d0cabaf5ef0e",
   "metadata": {},
   "outputs": [
    {
     "data": {
      "text/plain": [
       "<Popen: returncode: None args: ['C:\\\\Users\\\\ASUS\\\\anaconda3\\\\python.exe', '-...>"
      ]
     },
     "execution_count": 33,
     "metadata": {},
     "output_type": "execute_result"
    }
   ],
   "source": [
    "quartz = ase.spacegroup.crystal(symbols=['O', 'Si'],\n",
    "                                basis=[[0.413, 0.2711, 0.2172],\n",
    "                                       [0.4673, 0, 0.3333]],\n",
    "                                spacegroup=152,\n",
    "                                cellpar=[4.9019, 4.9019, 5.3988, 90, 90, 120])\n",
    "view(quartz)"
   ]
  },
  {
   "cell_type": "code",
   "execution_count": null,
   "id": "6e21405a-6a37-4f73-a45a-5c9642a57b82",
   "metadata": {},
   "outputs": [],
   "source": []
  }
 ],
 "metadata": {
  "kernelspec": {
   "display_name": "Python 3 (ipykernel)",
   "language": "python",
   "name": "python3"
  },
  "language_info": {
   "codemirror_mode": {
    "name": "ipython",
    "version": 3
   },
   "file_extension": ".py",
   "mimetype": "text/x-python",
   "name": "python",
   "nbconvert_exporter": "python",
   "pygments_lexer": "ipython3",
   "version": "3.12.7"
  }
 },
 "nbformat": 4,
 "nbformat_minor": 5
}
